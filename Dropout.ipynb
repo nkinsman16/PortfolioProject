{
  "cells": [
    {
      "cell_type": "markdown",
      "metadata": {
        "id": "view-in-github",
        "colab_type": "text"
      },
      "source": [
        "<a href=\"https://colab.research.google.com/github/nkinsman16/PortfolioProject/blob/main/Dropout.ipynb\" target=\"_parent\"><img src=\"https://colab.research.google.com/assets/colab-badge.svg\" alt=\"Open In Colab\"/></a>"
      ]
    },
    {
      "cell_type": "code",
      "execution_count": 1,
      "metadata": {
        "colab": {
          "base_uri": "https://localhost:8080/",
          "height": 0
        },
        "id": "IVOlETWskDUO",
        "outputId": "a102dcbb-66ee-4aa2-da65-06f5cb4ee906"
      },
      "outputs": [
        {
          "output_type": "stream",
          "name": "stdout",
          "text": [
            "Mounted at /content/drive\n",
            "/content/drive/My Drive/cs682/assignment2/assignment2/cs682/datasets\n",
            "--2025-04-03 22:08:44--  https://www.cs.toronto.edu/~kriz/cifar-10-python.tar.gz\n",
            "Resolving www.cs.toronto.edu (www.cs.toronto.edu)... 128.100.3.30\n",
            "Connecting to www.cs.toronto.edu (www.cs.toronto.edu)|128.100.3.30|:443... connected.\n",
            "HTTP request sent, awaiting response... 200 OK\n",
            "Length: 170498071 (163M) [application/x-gzip]\n",
            "Saving to: ‘cifar-10-python.tar.gz’\n",
            "\n",
            "cifar-10-python.tar 100%[===================>] 162.60M  42.4MB/s    in 4.1s    \n",
            "\n",
            "2025-04-03 22:08:48 (39.7 MB/s) - ‘cifar-10-python.tar.gz’ saved [170498071/170498071]\n",
            "\n",
            "cifar-10-batches-py/\n",
            "cifar-10-batches-py/data_batch_4\n",
            "cifar-10-batches-py/readme.html\n",
            "cifar-10-batches-py/test_batch\n",
            "cifar-10-batches-py/data_batch_3\n",
            "cifar-10-batches-py/batches.meta\n",
            "cifar-10-batches-py/data_batch_2\n",
            "cifar-10-batches-py/data_batch_5\n",
            "cifar-10-batches-py/data_batch_1\n",
            "/content/drive/My Drive/cs682/assignment2/assignment2\n"
          ]
        }
      ],
      "source": [
        "# Comment the following if you are running your code locally\n",
        "\n",
        "# This mounts your Google Drive to the Colab VM.\n",
        "from google.colab import drive\n",
        "drive.mount('/content/drive')\n",
        "\n",
        "# TODO: Enter the foldername in your Drive where you have saved the unzipped\n",
        "# assignment folder, e.g. 'cs682/assignments/assignment1/'\n",
        "FOLDERNAME = 'cs682/assignment2/assignment2'\n",
        "assert FOLDERNAME is not None, 'cs682/assignment2/assignment2'\n",
        "\n",
        "# Now that we've mounted your Drive, this ensures that\n",
        "# the Python interpreter of the Colab VM can load\n",
        "# python files from within it.\n",
        "import sys\n",
        "sys.path.append('/content/drive/My Drive/{}'.format(FOLDERNAME))\n",
        "\n",
        "# This downloads the CIFAR-10 dataset to your Drive\n",
        "# if it doesn't already exist.\n",
        "%cd /content/drive/My\\ Drive/$FOLDERNAME/cs682/datasets/\n",
        "!bash get_datasets.sh\n",
        "%cd /content/drive/My\\ Drive/$FOLDERNAME"
      ]
    },
    {
      "cell_type": "markdown",
      "metadata": {
        "id": "T2jbNQqSkDUQ"
      },
      "source": [
        "# Dropout\n",
        "Dropout [1] is a technique for regularizing neural networks by randomly setting some features to zero during the forward pass. In this exercise you will implement a dropout layer and modify your fully-connected network to optionally use dropout.\n",
        "\n",
        "[1] [Geoffrey E. Hinton et al, \"Improving neural networks by preventing co-adaptation of feature detectors\", arXiv 2012](https://arxiv.org/abs/1207.0580)"
      ]
    },
    {
      "cell_type": "code",
      "execution_count": 2,
      "metadata": {
        "id": "zXaN9jP4kDUQ"
      },
      "outputs": [],
      "source": [
        "# As usual, a bit of setup\n",
        "from __future__ import print_function\n",
        "import time\n",
        "import numpy as np\n",
        "import matplotlib.pyplot as plt\n",
        "from cs682.classifiers.fc_net import *\n",
        "from cs682.data_utils import get_CIFAR10_data\n",
        "from cs682.gradient_check import eval_numerical_gradient, eval_numerical_gradient_array\n",
        "from cs682.solver import Solver\n",
        "\n",
        "%matplotlib inline\n",
        "plt.rcParams['figure.figsize'] = (10.0, 8.0) # set default size of plots\n",
        "plt.rcParams['image.interpolation'] = 'nearest'\n",
        "plt.rcParams['image.cmap'] = 'gray'\n",
        "\n",
        "# for auto-reloading external modules\n",
        "# see http://stackoverflow.com/questions/1907993/autoreload-of-modules-in-ipython\n",
        "%load_ext autoreload\n",
        "%autoreload 2\n",
        "\n",
        "def rel_error(x, y):\n",
        "  \"\"\" returns relative error \"\"\"\n",
        "  return np.max(np.abs(x - y) / (np.maximum(1e-8, np.abs(x) + np.abs(y))))"
      ]
    },
    {
      "cell_type": "code",
      "execution_count": 3,
      "metadata": {
        "colab": {
          "base_uri": "https://localhost:8080/",
          "height": 0
        },
        "id": "79pO6l1GkDUR",
        "outputId": "cc5a93b8-9f42-4ef5-d546-ff8e108ed63a"
      },
      "outputs": [
        {
          "output_type": "stream",
          "name": "stdout",
          "text": [
            "X_train:  (49000, 3, 32, 32)\n",
            "y_train:  (49000,)\n",
            "X_val:  (1000, 3, 32, 32)\n",
            "y_val:  (1000,)\n",
            "X_test:  (1000, 3, 32, 32)\n",
            "y_test:  (1000,)\n"
          ]
        }
      ],
      "source": [
        "# Load the (preprocessed) CIFAR10 data.\n",
        "\n",
        "data = get_CIFAR10_data()\n",
        "for k, v in data.items():\n",
        "  print('%s: ' % k, v.shape)"
      ]
    },
    {
      "cell_type": "markdown",
      "metadata": {
        "id": "u2oeL6eXkDUR"
      },
      "source": [
        "# Dropout forward pass\n",
        "In the file `cs682/layers.py`, implement the forward pass for dropout. Since dropout behaves differently during training and testing, make sure to implement the operation for both modes.\n",
        "\n",
        "Once you have done so, run the cell below to test your implementation."
      ]
    },
    {
      "cell_type": "code",
      "execution_count": 4,
      "metadata": {
        "colab": {
          "base_uri": "https://localhost:8080/",
          "height": 0
        },
        "id": "Ql7n5ClOkDUR",
        "outputId": "0d34b14a-f207-4317-e704-14ca36bcc094"
      },
      "outputs": [
        {
          "output_type": "stream",
          "name": "stdout",
          "text": [
            "Running tests with p =  0.25\n",
            "Mean of input:  10.000207878477502\n",
            "Mean of train-time output:  10.014059116977283\n",
            "Mean of test-time output:  10.000207878477502\n",
            "Fraction of train-time output set to zero:  0.749784\n",
            "Fraction of test-time output set to zero:  0.0\n",
            "\n",
            "Running tests with p =  0.4\n",
            "Mean of input:  10.000207878477502\n",
            "Mean of train-time output:  9.977917658761159\n",
            "Mean of test-time output:  10.000207878477502\n",
            "Fraction of train-time output set to zero:  0.600796\n",
            "Fraction of test-time output set to zero:  0.0\n",
            "\n",
            "Running tests with p =  0.7\n",
            "Mean of input:  10.000207878477502\n",
            "Mean of train-time output:  9.987811912159426\n",
            "Mean of test-time output:  10.000207878477502\n",
            "Fraction of train-time output set to zero:  0.30074\n",
            "Fraction of test-time output set to zero:  0.0\n",
            "\n"
          ]
        }
      ],
      "source": [
        "np.random.seed(231)\n",
        "x = np.random.randn(500, 500) + 10\n",
        "\n",
        "for p in [0.25, 0.4, 0.7]:\n",
        "  out, _ = dropout_forward(x, {'mode': 'train', 'p': p})\n",
        "  out_test, _ = dropout_forward(x, {'mode': 'test', 'p': p})\n",
        "\n",
        "  print('Running tests with p = ', p)\n",
        "  print('Mean of input: ', x.mean())\n",
        "  print('Mean of train-time output: ', out.mean())\n",
        "  print('Mean of test-time output: ', out_test.mean())\n",
        "  print('Fraction of train-time output set to zero: ', (out == 0).mean())\n",
        "  print('Fraction of test-time output set to zero: ', (out_test == 0).mean())\n",
        "  print()"
      ]
    },
    {
      "cell_type": "markdown",
      "metadata": {
        "id": "Vy9OqoEVkDUR"
      },
      "source": [
        "# Dropout backward pass\n",
        "In the file `cs682/layers.py`, implement the backward pass for dropout. After doing so, run the following cell to numerically gradient-check your implementation."
      ]
    },
    {
      "cell_type": "code",
      "execution_count": 5,
      "metadata": {
        "colab": {
          "base_uri": "https://localhost:8080/",
          "height": 0
        },
        "id": "4-63Ih16kDUR",
        "outputId": "0fd1a5db-07c0-4ef0-cef8-15d0ffa5bd9b"
      },
      "outputs": [
        {
          "output_type": "stream",
          "name": "stdout",
          "text": [
            "dx relative error:  5.44560814873387e-11\n"
          ]
        }
      ],
      "source": [
        "np.random.seed(231)\n",
        "x = np.random.randn(10, 10) + 10\n",
        "dout = np.random.randn(*x.shape)\n",
        "\n",
        "dropout_param = {'mode': 'train', 'p': 0.2, 'seed': 123}\n",
        "out, cache = dropout_forward(x, dropout_param)\n",
        "dx = dropout_backward(dout, cache)\n",
        "dx_num = eval_numerical_gradient_array(lambda xx: dropout_forward(xx, dropout_param)[0], x, dout)\n",
        "\n",
        "# Error should be around e-10 or less\n",
        "print('dx relative error: ', rel_error(dx, dx_num))"
      ]
    },
    {
      "cell_type": "markdown",
      "metadata": {
        "id": "1-RR8wyYkDUR"
      },
      "source": [
        "## Inline Question 1:\n",
        "What happens if we do not divide the values being passed through inverse dropout by `p` in the dropout layer? Why does that happen?"
      ]
    },
    {
      "cell_type": "markdown",
      "metadata": {
        "id": "XBlvOji3kDUR"
      },
      "source": [
        "## Answer:\n",
        "If we don't divide the values by p, this will cause mismatch between the training and testing data. During Training, the expected values of the outputs during the training will much lower than during testing. It happens because the expected outputs will be much lower than during testing, because we're not dropping out the units within the vector and then rescaling the remaining ones.  For example if we have an input vector of x=[10,10,10,10,10], with the drop out p=0.5, half of the units will drop out which will give us [10+10+10]/5 which would equal to 6. Without that 5, the number would be 10, which would create weaker activations.  \n"
      ]
    },
    {
      "cell_type": "markdown",
      "metadata": {
        "id": "vhLpIRRbkDUS"
      },
      "source": [
        "# Fully-connected nets with Dropout\n",
        "In the file `cs682/classifiers/fc_net.py`, modify your implementation to use dropout. Specifically, if the constructor of the net receives a value that is not 1 for the `dropout` parameter, then the net should add dropout immediately after every ReLU nonlinearity. After doing so, run the following to numerically gradient-check your implementation."
      ]
    },
    {
      "cell_type": "code",
      "execution_count": 6,
      "metadata": {
        "colab": {
          "base_uri": "https://localhost:8080/",
          "height": 0
        },
        "id": "LrykFIxLkDUS",
        "outputId": "085e6ed6-4e68-45ee-f86e-0af26bff30f0"
      },
      "outputs": [
        {
          "output_type": "stream",
          "name": "stdout",
          "text": [
            "Running check with dropout =  1\n",
            "Initial loss:  2.3004790897684924\n",
            "W1 relative error: 1.48e-07\n",
            "W2 relative error: 2.21e-05\n",
            "W3 relative error: 3.53e-07\n",
            "b1 relative error: 5.38e-09\n",
            "b2 relative error: 2.09e-09\n",
            "b3 relative error: 5.80e-11\n",
            "\n",
            "Running check with dropout =  0.75\n",
            "Initial loss:  2.302371489704412\n",
            "W1 relative error: 1.90e-07\n",
            "W2 relative error: 4.76e-06\n",
            "W3 relative error: 2.60e-08\n",
            "b1 relative error: 4.73e-09\n",
            "b2 relative error: 1.82e-09\n",
            "b3 relative error: 1.70e-10\n",
            "\n",
            "Running check with dropout =  0.5\n",
            "Initial loss:  2.3042759220785896\n",
            "W1 relative error: 3.11e-07\n",
            "W2 relative error: 1.84e-08\n",
            "W3 relative error: 5.35e-08\n",
            "b1 relative error: 5.37e-09\n",
            "b2 relative error: 2.99e-09\n",
            "b3 relative error: 1.13e-10\n",
            "\n"
          ]
        }
      ],
      "source": [
        "np.random.seed(231)\n",
        "N, D, H1, H2, C = 2, 15, 20, 30, 10\n",
        "X = np.random.randn(N, D)\n",
        "y = np.random.randint(C, size=(N,))\n",
        "\n",
        "for dropout in [1, 0.75, 0.5]:\n",
        "  print('Running check with dropout = ', dropout)\n",
        "  model = FullyConnectedNet([H1, H2], input_dim=D, num_classes=C,\n",
        "                            weight_scale=5e-2, dtype=np.float64,\n",
        "                            dropout=dropout, seed=123)\n",
        "\n",
        "  loss, grads = model.loss(X, y)\n",
        "  print('Initial loss: ', loss)\n",
        "\n",
        "  # Relative errors should be around e-6 or less; Note that it's fine\n",
        "  # if for dropout=1 you have W2 error be on the order of e-5.\n",
        "  for name in sorted(grads):\n",
        "    f = lambda _: model.loss(X, y)[0]\n",
        "    grad_num = eval_numerical_gradient(f, model.params[name], verbose=False, h=1e-5)\n",
        "    print('%s relative error: %.2e' % (name, rel_error(grad_num, grads[name])))\n",
        "  print()"
      ]
    },
    {
      "cell_type": "markdown",
      "metadata": {
        "id": "vstGgwLokDUS"
      },
      "source": [
        "# Regularization experiment\n",
        "As an experiment, we will train a pair of two-layer networks on 500 training examples: one will use no dropout, and one will use a keep probability of 0.25. We will then visualize the training and validation accuracies of the two networks over time."
      ]
    },
    {
      "cell_type": "code",
      "execution_count": 7,
      "metadata": {
        "colab": {
          "base_uri": "https://localhost:8080/",
          "height": 0
        },
        "id": "6XnPQpjgkDUS",
        "outputId": "21efd6c4-5b25-45c0-c698-ca9983f3b7f7"
      },
      "outputs": [
        {
          "output_type": "stream",
          "name": "stdout",
          "text": [
            "1\n",
            "(Iteration 1 / 125) loss: 7.856644\n",
            "(Epoch 0 / 25) train acc: 0.260000; val_acc: 0.184000\n",
            "(Epoch 1 / 25) train acc: 0.416000; val_acc: 0.258000\n",
            "(Epoch 2 / 25) train acc: 0.482000; val_acc: 0.276000\n",
            "(Epoch 3 / 25) train acc: 0.532000; val_acc: 0.277000\n",
            "(Epoch 4 / 25) train acc: 0.600000; val_acc: 0.271000\n",
            "(Epoch 5 / 25) train acc: 0.708000; val_acc: 0.299000\n",
            "(Epoch 6 / 25) train acc: 0.722000; val_acc: 0.282000\n",
            "(Epoch 7 / 25) train acc: 0.832000; val_acc: 0.255000\n",
            "(Epoch 8 / 25) train acc: 0.880000; val_acc: 0.268000\n",
            "(Epoch 9 / 25) train acc: 0.902000; val_acc: 0.277000\n",
            "(Epoch 10 / 25) train acc: 0.898000; val_acc: 0.261000\n",
            "(Epoch 11 / 25) train acc: 0.924000; val_acc: 0.263000\n",
            "(Epoch 12 / 25) train acc: 0.960000; val_acc: 0.299000\n",
            "(Epoch 13 / 25) train acc: 0.972000; val_acc: 0.314000\n",
            "(Epoch 14 / 25) train acc: 0.972000; val_acc: 0.309000\n",
            "(Epoch 15 / 25) train acc: 0.974000; val_acc: 0.314000\n",
            "(Epoch 16 / 25) train acc: 0.994000; val_acc: 0.303000\n",
            "(Epoch 17 / 25) train acc: 0.970000; val_acc: 0.305000\n",
            "(Epoch 18 / 25) train acc: 0.992000; val_acc: 0.310000\n",
            "(Epoch 19 / 25) train acc: 0.994000; val_acc: 0.308000\n",
            "(Epoch 20 / 25) train acc: 0.992000; val_acc: 0.288000\n",
            "(Iteration 101 / 125) loss: 0.001088\n",
            "(Epoch 21 / 25) train acc: 0.996000; val_acc: 0.293000\n",
            "(Epoch 22 / 25) train acc: 0.998000; val_acc: 0.303000\n",
            "(Epoch 23 / 25) train acc: 0.996000; val_acc: 0.306000\n",
            "(Epoch 24 / 25) train acc: 0.998000; val_acc: 0.306000\n",
            "(Epoch 25 / 25) train acc: 0.996000; val_acc: 0.291000\n",
            "0.25\n",
            "(Iteration 1 / 125) loss: 17.318478\n",
            "(Epoch 0 / 25) train acc: 0.230000; val_acc: 0.177000\n",
            "(Epoch 1 / 25) train acc: 0.378000; val_acc: 0.243000\n",
            "(Epoch 2 / 25) train acc: 0.402000; val_acc: 0.254000\n",
            "(Epoch 3 / 25) train acc: 0.502000; val_acc: 0.276000\n",
            "(Epoch 4 / 25) train acc: 0.528000; val_acc: 0.298000\n",
            "(Epoch 5 / 25) train acc: 0.562000; val_acc: 0.296000\n",
            "(Epoch 6 / 25) train acc: 0.626000; val_acc: 0.291000\n",
            "(Epoch 7 / 25) train acc: 0.622000; val_acc: 0.297000\n",
            "(Epoch 8 / 25) train acc: 0.688000; val_acc: 0.313000\n",
            "(Epoch 9 / 25) train acc: 0.712000; val_acc: 0.297000\n",
            "(Epoch 10 / 25) train acc: 0.724000; val_acc: 0.306000\n",
            "(Epoch 11 / 25) train acc: 0.768000; val_acc: 0.307000\n",
            "(Epoch 12 / 25) train acc: 0.774000; val_acc: 0.284000\n",
            "(Epoch 13 / 25) train acc: 0.828000; val_acc: 0.308000\n",
            "(Epoch 14 / 25) train acc: 0.812000; val_acc: 0.346000\n",
            "(Epoch 15 / 25) train acc: 0.850000; val_acc: 0.339000\n",
            "(Epoch 16 / 25) train acc: 0.844000; val_acc: 0.307000\n",
            "(Epoch 17 / 25) train acc: 0.858000; val_acc: 0.300000\n",
            "(Epoch 18 / 25) train acc: 0.862000; val_acc: 0.319000\n",
            "(Epoch 19 / 25) train acc: 0.884000; val_acc: 0.318000\n",
            "(Epoch 20 / 25) train acc: 0.856000; val_acc: 0.310000\n",
            "(Iteration 101 / 125) loss: 4.246638\n",
            "(Epoch 21 / 25) train acc: 0.896000; val_acc: 0.326000\n",
            "(Epoch 22 / 25) train acc: 0.894000; val_acc: 0.321000\n",
            "(Epoch 23 / 25) train acc: 0.932000; val_acc: 0.326000\n",
            "(Epoch 24 / 25) train acc: 0.926000; val_acc: 0.324000\n",
            "(Epoch 25 / 25) train acc: 0.928000; val_acc: 0.327000\n"
          ]
        }
      ],
      "source": [
        "# Train two identical nets, one with dropout and one without\n",
        "np.random.seed(231)\n",
        "num_train = 500\n",
        "small_data = {\n",
        "  'X_train': data['X_train'][:num_train],\n",
        "  'y_train': data['y_train'][:num_train],\n",
        "  'X_val': data['X_val'],\n",
        "  'y_val': data['y_val'],\n",
        "}\n",
        "\n",
        "solvers = {}\n",
        "dropout_choices = [1, 0.25]\n",
        "for dropout in dropout_choices:\n",
        "  model = FullyConnectedNet([500], dropout=dropout)\n",
        "  print(dropout)\n",
        "\n",
        "  solver = Solver(model, small_data,\n",
        "                  num_epochs=25, batch_size=100,\n",
        "                  update_rule='adam',\n",
        "                  optim_config={\n",
        "                    'learning_rate': 5e-4,\n",
        "                  },\n",
        "                  verbose=True, print_every=100)\n",
        "  solver.train()\n",
        "  solvers[dropout] = solver"
      ]
    },
    {
      "cell_type": "code",
      "execution_count": 8,
      "metadata": {
        "colab": {
          "base_uri": "https://localhost:8080/",
          "height": 849
        },
        "id": "H9oRQ70wkDUS",
        "outputId": "2e3aab9e-62f1-438f-b458-c3d208df80bf"
      },
      "outputs": [
        {
          "output_type": "display_data",
          "data": {
            "text/plain": [
              "<Figure size 1500x1500 with 2 Axes>"
            ],
            "image/png": "[encoded data removed]"
          },
          "metadata": {}
        }
      ],
      "source": [
        "# Plot train and validation accuracies of the two models\n",
        "\n",
        "train_accs = []\n",
        "val_accs = []\n",
        "for dropout in dropout_choices:\n",
        "  solver = solvers[dropout]\n",
        "  train_accs.append(solver.train_acc_history[-1])\n",
        "  val_accs.append(solver.val_acc_history[-1])\n",
        "\n",
        "plt.subplot(3, 1, 1)\n",
        "for dropout in dropout_choices:\n",
        "  plt.plot(solvers[dropout].train_acc_history, 'o', label='%.2f dropout' % dropout)\n",
        "plt.title('Train accuracy')\n",
        "plt.xlabel('Epoch')\n",
        "plt.ylabel('Accuracy')\n",
        "plt.legend(ncol=2, loc='lower right')\n",
        "\n",
        "plt.subplot(3, 1, 2)\n",
        "for dropout in dropout_choices:\n",
        "  plt.plot(solvers[dropout].val_acc_history, 'o', label='%.2f dropout' % dropout)\n",
        "plt.title('Val accuracy')\n",
        "plt.xlabel('Epoch')\n",
        "plt.ylabel('Accuracy')\n",
        "plt.legend(ncol=2, loc='lower right')\n",
        "\n",
        "plt.gcf().set_size_inches(15, 15)\n",
        "plt.show()"
      ]
    },
    {
      "cell_type": "markdown",
      "metadata": {
        "id": "YGVDu_5ikDUS"
      },
      "source": [
        "## Inline Question 2:\n",
        "Compare the validation and training accuracies with and without dropout -- what do your results suggest about dropout as a regularizer?"
      ]
    },
    {
      "cell_type": "markdown",
      "metadata": {
        "id": "NxdYaWcFkDUS"
      },
      "source": [
        "## Answer:\n",
        "The top model fits the training data very well, almost 100%! This is very much a strong sign of overfitting, with orange less so but that's because with you're dropping out data you're intentionally removing data from training to make it harder to memorize. The bottom plot(validation accuracy) the validation accuracy for 1.0 dropout improves but then flattens out, which suggests overfitting and 0.25 continues to improve even surpassing the no dropout model, which suggests better generalization.\n",
        "\n",
        "The resuls suggest about dropout as regularizer is that it helps to prevent overfitting by randomly removing neurons during training. By having this inconsistency of data, this makes the network learn more realistic data, than relying on common paths for the network. As seen in the graph, this drop out leads to less than accurate training data, but validation has much better performance, which is what we want in our model. It's like this homework, I may get it wrong or have lower accuracy, but when applying this in real life all my failures will lead to my success.\n"
      ]
    },
    {
      "cell_type": "markdown",
      "metadata": {
        "id": "ty5nokeWkDUS"
      },
      "source": [
        "## Inline Question 3:\n",
        "Suppose we are training a deep fully-connected network for image classification, with dropout after hidden layers (parameterized by keep probability p). How should we modify p, if at all, if we decide to decrease the size of the hidden layers (that is, the number of nodes in each layer)?"
      ]
    },
    {
      "cell_type": "markdown",
      "metadata": {
        "id": "S0_CJhNlkDUS"
      },
      "source": [
        "## Answer:\n",
        "If we decide to decrease the size of the hidden layers, we would have to increase the probability of p. If your hiddne layer is already small, applying the dropout rate on top of it would disable a larger portion of the network, which would limit it's ability to learn and would cause it to underfit.\n",
        "For example, if you had a hidden layer of 100 nodes with a drop out rate of 0.5 then it would  be 50 nodes for training. If we were to strink the 100 notes to 10 while keeping p the same, we would be left with 5 nodes, which would severly limit the learning. Instead we should be increasing p to 0.9 to retain more active neurons and preserve learning capacity for the smaller layers.\n"
      ]
    },
    {
      "cell_type": "code",
      "execution_count": 8,
      "metadata": {
        "id": "rTJLOVGhkDUS"
      },
      "outputs": [],
      "source": []
    }
  ],
  "metadata": {
    "kernelspec": {
      "display_name": "Python 3 (ipykernel)",
      "language": "python",
      "name": "python3"
    },
    "language_info": {
      "codemirror_mode": {
        "name": "ipython",
        "version": 3
      },
      "file_extension": ".py",
      "mimetype": "text/x-python",
      "name": "python",
      "nbconvert_exporter": "python",
      "pygments_lexer": "ipython3",
      "version": "3.10.14"
    },
    "colab": {
      "provenance": [],
      "include_colab_link": true
    }
  },
  "nbformat": 4,
  "nbformat_minor": 0
}